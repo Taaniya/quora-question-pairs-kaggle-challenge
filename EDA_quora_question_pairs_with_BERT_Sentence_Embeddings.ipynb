{
  "nbformat": 4,
  "nbformat_minor": 0,
  "metadata": {
    "accelerator": "GPU",
    "colab": {
      "name": "EDA-quora-question-pairs_with_BERT_Sentence_Embeddings.ipynb",
      "provenance": [],
      "collapsed_sections": []
    },
    "kernelspec": {
      "display_name": "Python 3",
      "language": "python",
      "name": "python3"
    },
    "language_info": {
      "codemirror_mode": {
        "name": "ipython",
        "version": 3
      },
      "file_extension": ".py",
      "mimetype": "text/x-python",
      "name": "python",
      "nbconvert_exporter": "python",
      "pygments_lexer": "ipython3",
      "version": "3.7.9"
    }
  },
  "cells": [
    {
      "cell_type": "markdown",
      "metadata": {
        "id": "fRGZbFCVkDWz"
      },
      "source": [
        "This notebook explores the duplicate and non-duplicate set of samples in the training set by using similarity scores of their sentence embeddings and also highlights incorrectly labelled cases."
      ]
    },
    {
      "cell_type": "code",
      "metadata": {
        "id": "kHriSNsKo64I"
      },
      "source": [
        "! pip install bert-for-tf2"
      ],
      "execution_count": null,
      "outputs": []
    },
    {
      "cell_type": "code",
      "metadata": {
        "colab": {
          "base_uri": "https://localhost:8080/"
        },
        "id": "3VAVieQgnvDM",
        "outputId": "838cb915-4904-445a-bd59-4f323672f758"
      },
      "source": [
        "import numpy as np \n",
        "import pandas as pd\n",
        "import matplotlib.pyplot as plt\n",
        "import seaborn as sns\n",
        "from tqdm import tqdm\n",
        "\n",
        "pd.set_option('display.max_colwidth', -1)"
      ],
      "execution_count": 5,
      "outputs": [
        {
          "output_type": "stream",
          "text": [
            "/usr/local/lib/python3.6/dist-packages/ipykernel_launcher.py:7: FutureWarning: Passing a negative integer is deprecated in version 1.0 and will not be supported in future version. Instead, use None to not limit the column width.\n",
            "  import sys\n"
          ],
          "name": "stderr"
        }
      ]
    },
    {
      "cell_type": "code",
      "metadata": {
        "colab": {
          "base_uri": "https://localhost:8080/"
        },
        "id": "T2VyR_V9nvDS",
        "outputId": "7f8c61b3-944b-4c41-e3be-234af8be0099"
      },
      "source": [
        "! unzip sample_data/train.csv.zip"
      ],
      "execution_count": 13,
      "outputs": [
        {
          "output_type": "stream",
          "text": [
            "Archive:  sample_data/train.csv.zip\n",
            "  inflating: train.csv               \n"
          ],
          "name": "stdout"
        }
      ]
    },
    {
      "cell_type": "code",
      "metadata": {
        "id": "a7fWV5vUnvDT"
      },
      "source": [
        "# Size of train.csv\n",
        "\n",
        "! du -sh ./*"
      ],
      "execution_count": null,
      "outputs": []
    },
    {
      "cell_type": "code",
      "metadata": {
        "id": "FaNoFb0FnvDT"
      },
      "source": [
        "import tensorflow as tf\n",
        "import tensorflow_hub as hub\n",
        "import bert"
      ],
      "execution_count": 15,
      "outputs": []
    },
    {
      "cell_type": "code",
      "metadata": {
        "id": "HDKLle05nvDT"
      },
      "source": [
        "train_df = pd.read_csv(\"./train.csv\")"
      ],
      "execution_count": 16,
      "outputs": []
    },
    {
      "cell_type": "code",
      "metadata": {
        "colab": {
          "base_uri": "https://localhost:8080/",
          "height": 262
        },
        "id": "-mvf3MSBnvDU",
        "outputId": "62eb9300-3b3c-4cdb-974f-a86deb906539"
      },
      "source": [
        "train_df.head()"
      ],
      "execution_count": 17,
      "outputs": [
        {
          "output_type": "execute_result",
          "data": {
            "text/html": [
              "<div>\n",
              "<style scoped>\n",
              "    .dataframe tbody tr th:only-of-type {\n",
              "        vertical-align: middle;\n",
              "    }\n",
              "\n",
              "    .dataframe tbody tr th {\n",
              "        vertical-align: top;\n",
              "    }\n",
              "\n",
              "    .dataframe thead th {\n",
              "        text-align: right;\n",
              "    }\n",
              "</style>\n",
              "<table border=\"1\" class=\"dataframe\">\n",
              "  <thead>\n",
              "    <tr style=\"text-align: right;\">\n",
              "      <th></th>\n",
              "      <th>id</th>\n",
              "      <th>qid1</th>\n",
              "      <th>qid2</th>\n",
              "      <th>question1</th>\n",
              "      <th>question2</th>\n",
              "      <th>is_duplicate</th>\n",
              "    </tr>\n",
              "  </thead>\n",
              "  <tbody>\n",
              "    <tr>\n",
              "      <th>0</th>\n",
              "      <td>0</td>\n",
              "      <td>1</td>\n",
              "      <td>2</td>\n",
              "      <td>What is the step by step guide to invest in share market in india?</td>\n",
              "      <td>What is the step by step guide to invest in share market?</td>\n",
              "      <td>0</td>\n",
              "    </tr>\n",
              "    <tr>\n",
              "      <th>1</th>\n",
              "      <td>1</td>\n",
              "      <td>3</td>\n",
              "      <td>4</td>\n",
              "      <td>What is the story of Kohinoor (Koh-i-Noor) Diamond?</td>\n",
              "      <td>What would happen if the Indian government stole the Kohinoor (Koh-i-Noor) diamond back?</td>\n",
              "      <td>0</td>\n",
              "    </tr>\n",
              "    <tr>\n",
              "      <th>2</th>\n",
              "      <td>2</td>\n",
              "      <td>5</td>\n",
              "      <td>6</td>\n",
              "      <td>How can I increase the speed of my internet connection while using a VPN?</td>\n",
              "      <td>How can Internet speed be increased by hacking through DNS?</td>\n",
              "      <td>0</td>\n",
              "    </tr>\n",
              "    <tr>\n",
              "      <th>3</th>\n",
              "      <td>3</td>\n",
              "      <td>7</td>\n",
              "      <td>8</td>\n",
              "      <td>Why am I mentally very lonely? How can I solve it?</td>\n",
              "      <td>Find the remainder when [math]23^{24}[/math] is divided by 24,23?</td>\n",
              "      <td>0</td>\n",
              "    </tr>\n",
              "    <tr>\n",
              "      <th>4</th>\n",
              "      <td>4</td>\n",
              "      <td>9</td>\n",
              "      <td>10</td>\n",
              "      <td>Which one dissolve in water quikly sugar, salt, methane and carbon di oxide?</td>\n",
              "      <td>Which fish would survive in salt water?</td>\n",
              "      <td>0</td>\n",
              "    </tr>\n",
              "  </tbody>\n",
              "</table>\n",
              "</div>"
            ],
            "text/plain": [
              "   id  ...  is_duplicate\n",
              "0  0   ...  0           \n",
              "1  1   ...  0           \n",
              "2  2   ...  0           \n",
              "3  3   ...  0           \n",
              "4  4   ...  0           \n",
              "\n",
              "[5 rows x 6 columns]"
            ]
          },
          "metadata": {
            "tags": []
          },
          "execution_count": 17
        }
      ]
    },
    {
      "cell_type": "code",
      "metadata": {
        "colab": {
          "base_uri": "https://localhost:8080/"
        },
        "id": "tEOi3Ic1nvDU",
        "outputId": "059c257e-96b3-450e-a0fd-504b912d27e0"
      },
      "source": [
        "train_df.info()"
      ],
      "execution_count": 18,
      "outputs": [
        {
          "output_type": "stream",
          "text": [
            "<class 'pandas.core.frame.DataFrame'>\n",
            "RangeIndex: 404290 entries, 0 to 404289\n",
            "Data columns (total 6 columns):\n",
            " #   Column        Non-Null Count   Dtype \n",
            "---  ------        --------------   ----- \n",
            " 0   id            404290 non-null  int64 \n",
            " 1   qid1          404290 non-null  int64 \n",
            " 2   qid2          404290 non-null  int64 \n",
            " 3   question1     404289 non-null  object\n",
            " 4   question2     404288 non-null  object\n",
            " 5   is_duplicate  404290 non-null  int64 \n",
            "dtypes: int64(4), object(2)\n",
            "memory usage: 18.5+ MB\n"
          ],
          "name": "stdout"
        }
      ]
    },
    {
      "cell_type": "markdown",
      "metadata": {
        "id": "NVCs2x-xnvDU"
      },
      "source": [
        "### Distribution of classes - is duplicate / not-duplicate"
      ]
    },
    {
      "cell_type": "code",
      "metadata": {
        "colab": {
          "base_uri": "https://localhost:8080/",
          "height": 277
        },
        "id": "pUFtBW5znvDU",
        "outputId": "631f5c3e-f43f-4cbb-a845-5fade1f78838"
      },
      "source": [
        "train_df.groupby(\"is_duplicate\").count()['id'].plot.bar()\n",
        "plt.show()"
      ],
      "execution_count": 19,
      "outputs": [
        {
          "output_type": "display_data",
          "data": {
            "image/png": "[encoded data removed]",
            "text/plain": [
              "<Figure size 432x288 with 1 Axes>"
            ]
          },
          "metadata": {
            "tags": [],
            "needs_background": "light"
          }
        }
      ]
    },
    {
      "cell_type": "markdown",
      "metadata": {
        "id": "ij_CpZBVnvDV"
      },
      "source": [
        "### Null values"
      ]
    },
    {
      "cell_type": "code",
      "metadata": {
        "colab": {
          "base_uri": "https://localhost:8080/"
        },
        "id": "m7eR6TejnvDV",
        "outputId": "536b651d-4f7b-41db-8174-86a945d065cf"
      },
      "source": [
        "train_df.isnull().sum()"
      ],
      "execution_count": 20,
      "outputs": [
        {
          "output_type": "execute_result",
          "data": {
            "text/plain": [
              "id              0\n",
              "qid1            0\n",
              "qid2            0\n",
              "question1       1\n",
              "question2       2\n",
              "is_duplicate    0\n",
              "dtype: int64"
            ]
          },
          "metadata": {
            "tags": []
          },
          "execution_count": 20
        }
      ]
    },
    {
      "cell_type": "code",
      "metadata": {
        "colab": {
          "base_uri": "https://localhost:8080/",
          "height": 94
        },
        "id": "2xiL6yxUnvDV",
        "outputId": "bd4e0021-b3da-4d80-adc8-991cbc713b98"
      },
      "source": [
        "train_df[train_df['question1'].isnull()].head()"
      ],
      "execution_count": 21,
      "outputs": [
        {
          "output_type": "execute_result",
          "data": {
            "text/html": [
              "<div>\n",
              "<style scoped>\n",
              "    .dataframe tbody tr th:only-of-type {\n",
              "        vertical-align: middle;\n",
              "    }\n",
              "\n",
              "    .dataframe tbody tr th {\n",
              "        vertical-align: top;\n",
              "    }\n",
              "\n",
              "    .dataframe thead th {\n",
              "        text-align: right;\n",
              "    }\n",
              "</style>\n",
              "<table border=\"1\" class=\"dataframe\">\n",
              "  <thead>\n",
              "    <tr style=\"text-align: right;\">\n",
              "      <th></th>\n",
              "      <th>id</th>\n",
              "      <th>qid1</th>\n",
              "      <th>qid2</th>\n",
              "      <th>question1</th>\n",
              "      <th>question2</th>\n",
              "      <th>is_duplicate</th>\n",
              "    </tr>\n",
              "  </thead>\n",
              "  <tbody>\n",
              "    <tr>\n",
              "      <th>363362</th>\n",
              "      <td>363362</td>\n",
              "      <td>493340</td>\n",
              "      <td>493341</td>\n",
              "      <td>NaN</td>\n",
              "      <td>My Chinese name is Haichao Yu. What English name is most suitable for me considering the pronounciation of my Chinese name?</td>\n",
              "      <td>0</td>\n",
              "    </tr>\n",
              "  </tbody>\n",
              "</table>\n",
              "</div>"
            ],
            "text/plain": [
              "            id  ...  is_duplicate\n",
              "363362  363362  ...  0           \n",
              "\n",
              "[1 rows x 6 columns]"
            ]
          },
          "metadata": {
            "tags": []
          },
          "execution_count": 21
        }
      ]
    },
    {
      "cell_type": "code",
      "metadata": {
        "colab": {
          "base_uri": "https://localhost:8080/",
          "height": 106
        },
        "id": "nbyU8Zv_nvDV",
        "outputId": "69472dc3-6399-4cbc-c4be-a2970767e7ab"
      },
      "source": [
        "train_df[train_df['question2'].isnull()].head()"
      ],
      "execution_count": 22,
      "outputs": [
        {
          "output_type": "execute_result",
          "data": {
            "text/html": [
              "<div>\n",
              "<style scoped>\n",
              "    .dataframe tbody tr th:only-of-type {\n",
              "        vertical-align: middle;\n",
              "    }\n",
              "\n",
              "    .dataframe tbody tr th {\n",
              "        vertical-align: top;\n",
              "    }\n",
              "\n",
              "    .dataframe thead th {\n",
              "        text-align: right;\n",
              "    }\n",
              "</style>\n",
              "<table border=\"1\" class=\"dataframe\">\n",
              "  <thead>\n",
              "    <tr style=\"text-align: right;\">\n",
              "      <th></th>\n",
              "      <th>id</th>\n",
              "      <th>qid1</th>\n",
              "      <th>qid2</th>\n",
              "      <th>question1</th>\n",
              "      <th>question2</th>\n",
              "      <th>is_duplicate</th>\n",
              "    </tr>\n",
              "  </thead>\n",
              "  <tbody>\n",
              "    <tr>\n",
              "      <th>105780</th>\n",
              "      <td>105780</td>\n",
              "      <td>174363</td>\n",
              "      <td>174364</td>\n",
              "      <td>How can I develop android app?</td>\n",
              "      <td>NaN</td>\n",
              "      <td>0</td>\n",
              "    </tr>\n",
              "    <tr>\n",
              "      <th>201841</th>\n",
              "      <td>201841</td>\n",
              "      <td>303951</td>\n",
              "      <td>174364</td>\n",
              "      <td>How can I create an Android app?</td>\n",
              "      <td>NaN</td>\n",
              "      <td>0</td>\n",
              "    </tr>\n",
              "  </tbody>\n",
              "</table>\n",
              "</div>"
            ],
            "text/plain": [
              "            id    qid1  ...  question2 is_duplicate\n",
              "105780  105780  174363  ...  NaN        0          \n",
              "201841  201841  303951  ...  NaN        0          \n",
              "\n",
              "[2 rows x 6 columns]"
            ]
          },
          "metadata": {
            "tags": []
          },
          "execution_count": 22
        }
      ]
    },
    {
      "cell_type": "code",
      "metadata": {
        "id": "K9wPhyQPnvDW"
      },
      "source": [
        "# Removing rows with Null questions\n",
        "\n",
        "train_df = train_df[~train_df['question1'].isnull()]\n",
        "train_df = train_df[~train_df['question2'].isnull()]"
      ],
      "execution_count": 23,
      "outputs": []
    },
    {
      "cell_type": "code",
      "metadata": {
        "colab": {
          "base_uri": "https://localhost:8080/"
        },
        "id": "97ClyOOUnvDW",
        "outputId": "cf08f7aa-3e78-49b9-9a2d-17c34b731cc8"
      },
      "source": [
        "train_df.count()"
      ],
      "execution_count": 24,
      "outputs": [
        {
          "output_type": "execute_result",
          "data": {
            "text/plain": [
              "id              404287\n",
              "qid1            404287\n",
              "qid2            404287\n",
              "question1       404287\n",
              "question2       404287\n",
              "is_duplicate    404287\n",
              "dtype: int64"
            ]
          },
          "metadata": {
            "tags": []
          },
          "execution_count": 24
        }
      ]
    },
    {
      "cell_type": "markdown",
      "metadata": {
        "id": "pChtXH1tnvDW"
      },
      "source": [
        "### Exploring similarity scores between question pairs using Language-Agnostic-Bert-Sentence embedding model\n",
        "\n",
        "[LABSE](https://ai.googleblog.com/2020/08/language-agnostic-bert-sentence.html) - is a multilingual model to preduce sentence embeddings based on Bert and combines methods for obtaining sentence embeddings with MLM and Translation Language Model pretrained encoders. \n",
        "\n",
        "It is trained on Monolingual data and bilingual translation pairs."
      ]
    },
    {
      "cell_type": "code",
      "metadata": {
        "id": "lRNSwqyDnvDW"
      },
      "source": [
        "LABSE_model_URL = \"https://tfhub.dev/google/LaBSE/1\"\n",
        "MAX_SEQ_LENGTH = 64"
      ],
      "execution_count": 25,
      "outputs": []
    },
    {
      "cell_type": "markdown",
      "metadata": {
        "id": "ode2WG61nvDW"
      },
      "source": [
        "LABSE model is available from TFhub and is loaded from there to wrap it as a callable object and to be used as a Keras Layer. Its vocab_file is stored as atf.saved_model.Asset and the do_lower_case flag is stored as a tf.Variable object on the SavedModel."
      ]
    },
    {
      "cell_type": "code",
      "metadata": {
        "id": "ASHDP5JHnvDX"
      },
      "source": [
        "## Define Model containing LABSE as Keras layers\n",
        "\n",
        "def getModel(model_url, max_seq_length):\n",
        "    # Load the saved LaBSE model as Keras layer. \n",
        "    # Set trainable to True to enable weight update for fine-tuning the model for down stream task\n",
        "    labse_layer = hub.KerasLayer(handle=model_url, trainable=True, name='labse')\n",
        "\n",
        "    # Define Inputs\n",
        "    input_word_ids = tf.keras.Input(shape=(max_seq_length, ), dtype=tf.int32, name='input_word_ids')\n",
        "    input_mask = tf.keras.Input(shape=(max_seq_length, ), dtype=tf.int32, name='input_mask')\n",
        "    input_segment_ids = tf.keras.Input(shape=(max_seq_length, ), dtype=tf.int32, name='input_segment_ids')\n",
        "\n",
        "    # LABSE layer \n",
        "    pooled_output, _ = labse_layer([input_word_ids, input_mask ,input_segment_ids])\n",
        "\n",
        "    # The output is L2 normalized shape [batch_size, 768] representing a complete sentence embedding\n",
        "    pooled_output = tf.keras.layers.Lambda(lambda x: tf.nn.l2_normalize(x, axis=1), name='l2_normalized_pooling')(pooled_output)\n",
        "\n",
        "    # Define Model\n",
        "    return tf.keras.Model(inputs=[input_word_ids, input_mask ,input_segment_ids], outputs=pooled_output), labse_layer"
      ],
      "execution_count": 26,
      "outputs": []
    },
    {
      "cell_type": "code",
      "metadata": {
        "colab": {
          "base_uri": "https://localhost:8080/"
        },
        "id": "APfx05AAnvDX",
        "outputId": "2ede2117-aa60-4205-c5e1-f15342a91f94"
      },
      "source": [
        "## Input preparation\n",
        "labse_model, labse_layer = getModel(LABSE_model_URL, MAX_SEQ_LENGTH)\n",
        "\n",
        "# labse_layer = hub.KerasLayer(handle=LABSE_model_URL, trainable=True, name='labse')\n",
        "\n",
        "vocab_file = labse_layer.resolved_object.vocab_file.asset_path.numpy()  # Get vocab file path as numpy array \n",
        "do_lower_case = labse_layer.resolved_object.do_lower_case.numpy()   # Get Boolean Variable as numpy array\n",
        "tokenizer = bert.bert_tokenization.FullTokenizer(vocab_file, do_lower_case)\n",
        "\n",
        "print(vocab_file, do_lower_case)"
      ],
      "execution_count": 27,
      "outputs": [
        {
          "output_type": "stream",
          "text": [
            "b'/tmp/tfhub_modules/0bc004950cec35a1a895621e888926cac85cbeba/assets/cased_vocab.txt' False\n"
          ],
          "name": "stdout"
        }
      ]
    },
    {
      "cell_type": "code",
      "metadata": {
        "colab": {
          "base_uri": "https://localhost:8080/"
        },
        "id": "EIf7ljninvDX",
        "outputId": "52337f35-d4f2-419d-dcfb-53ea582aa52c"
      },
      "source": [
        "labse_model.summary()"
      ],
      "execution_count": 28,
      "outputs": [
        {
          "output_type": "stream",
          "text": [
            "Model: \"model\"\n",
            "__________________________________________________________________________________________________\n",
            "Layer (type)                    Output Shape         Param #     Connected to                     \n",
            "==================================================================================================\n",
            "input_word_ids (InputLayer)     [(None, 64)]         0                                            \n",
            "__________________________________________________________________________________________________\n",
            "input_mask (InputLayer)         [(None, 64)]         0                                            \n",
            "__________________________________________________________________________________________________\n",
            "input_segment_ids (InputLayer)  [(None, 64)]         0                                            \n",
            "__________________________________________________________________________________________________\n",
            "labse (KerasLayer)              [(None, 768), (None, 470926849   input_word_ids[0][0]             \n",
            "                                                                 input_mask[0][0]                 \n",
            "                                                                 input_segment_ids[0][0]          \n",
            "__________________________________________________________________________________________________\n",
            "l2_normalized_pooling (Lambda)  (None, 768)          0           labse[0][0]                      \n",
            "==================================================================================================\n",
            "Total params: 470,926,849\n",
            "Trainable params: 470,926,848\n",
            "Non-trainable params: 1\n",
            "__________________________________________________________________________________________________\n"
          ],
          "name": "stdout"
        }
      ]
    },
    {
      "cell_type": "code",
      "metadata": {
        "id": "tzCq03iWnvDX"
      },
      "source": [
        "def create_input(input_strings, tokenizer, max_seq_length):\n",
        "    input_ids_all, input_mask_all, segment_ids_all = [], [], []\n",
        "    \n",
        "    for input_string in tqdm(input_strings):\n",
        "        # Tokenize input\n",
        "        # print(\"{}\".format(i))\n",
        "        input_tokens = [\"[CLS]\"] + tokenizer.tokenize(input_string) + [\"[SEP]\"]\n",
        "        input_ids = tokenizer.convert_tokens_to_ids(input_tokens)\n",
        "        sequence_length = min(len(input_ids), max_seq_length)\n",
        "\n",
        "        # Padding or truncation.\n",
        "        if len(input_ids) >= max_seq_length:\n",
        "          input_ids = input_ids[:max_seq_length]\n",
        "        else:\n",
        "          input_ids = input_ids + [0] * (max_seq_length - len(input_ids))\n",
        "\n",
        "        input_mask = [1] * sequence_length + [0] * (max_seq_length - sequence_length)\n",
        "\n",
        "        input_ids_all.append(input_ids)\n",
        "        input_mask_all.append(input_mask)\n",
        "        segment_ids_all.append([0] * max_seq_length)\n",
        "\n",
        "    return np.array(input_ids_all), np.array(input_mask_all), np.array(segment_ids_all)"
      ],
      "execution_count": 29,
      "outputs": []
    },
    {
      "cell_type": "code",
      "metadata": {
        "id": "fPMl4pUwnvDY"
      },
      "source": [
        "def encode(input_text):\n",
        "    input_ids, input_mask, segment_ids = create_input(input_text, tokenizer, MAX_SEQ_LENGTH)\n",
        "    return labse_model.predict([input_ids, input_mask, segment_ids])"
      ],
      "execution_count": 30,
      "outputs": []
    },
    {
      "cell_type": "markdown",
      "metadata": {
        "id": "kHW5WHp4nvDZ"
      },
      "source": [
        "Taking a sample of 100k Question pairs from the dataset"
      ]
    },
    {
      "cell_type": "code",
      "metadata": {
        "colab": {
          "base_uri": "https://localhost:8080/"
        },
        "id": "IPCDSdK-nvDZ",
        "outputId": "c0cfc552-0dc3-42cf-d3ba-feb53b3f2013"
      },
      "source": [
        "sample_df = train_df\n",
        "question1_array = sample_df['question1'].values\n",
        "question2_array = sample_df['question2'].values\n",
        "\n",
        "%time question1_embeddings = encode(question1_array)"
      ],
      "execution_count": 31,
      "outputs": [
        {
          "output_type": "stream",
          "text": [
            "100%|██████████| 404287/404287 [00:59<00:00, 6815.71it/s]\n"
          ],
          "name": "stderr"
        },
        {
          "output_type": "stream",
          "text": [
            "CPU times: user 4min 28s, sys: 1min 7s, total: 5min 35s\n",
            "Wall time: 32min 1s\n"
          ],
          "name": "stdout"
        }
      ]
    },
    {
      "cell_type": "code",
      "metadata": {
        "colab": {
          "base_uri": "https://localhost:8080/"
        },
        "id": "Xr7pVrCSnvDZ",
        "outputId": "1bed0ec2-4732-47fb-88c3-7fe29dd5a068"
      },
      "source": [
        "%time question2_embeddings = encode(question2_array)"
      ],
      "execution_count": 32,
      "outputs": [
        {
          "output_type": "stream",
          "text": [
            "100%|██████████| 404287/404287 [01:00<00:00, 6643.91it/s]\n"
          ],
          "name": "stderr"
        },
        {
          "output_type": "stream",
          "text": [
            "CPU times: user 4min 35s, sys: 1min 8s, total: 5min 44s\n",
            "Wall time: 32min 18s\n"
          ],
          "name": "stdout"
        }
      ]
    },
    {
      "cell_type": "code",
      "metadata": {
        "colab": {
          "base_uri": "https://localhost:8080/"
        },
        "id": "eQA4KkOfnvDa",
        "outputId": "2ff2db69-b041-4c79-a1cf-3ecd01da8190"
      },
      "source": [
        "question1_embeddings.shape, question2_embeddings.shape"
      ],
      "execution_count": 33,
      "outputs": [
        {
          "output_type": "execute_result",
          "data": {
            "text/plain": [
              "((404287, 768), (404287, 768))"
            ]
          },
          "metadata": {
            "tags": []
          },
          "execution_count": 33
        }
      ]
    },
    {
      "cell_type": "code",
      "metadata": {
        "colab": {
          "base_uri": "https://localhost:8080/"
        },
        "id": "4le1syb1nvDa",
        "outputId": "3cb4470d-18ee-469a-8edd-603920ffe7be"
      },
      "source": [
        "product = question1_embeddings * question2_embeddings\n",
        "print(product.shape)\n",
        "\n",
        "cosine_similarity = product.sum(axis=1)\n",
        "cosine_similarity.shape"
      ],
      "execution_count": 35,
      "outputs": [
        {
          "output_type": "stream",
          "text": [
            "(404287, 768)\n"
          ],
          "name": "stdout"
        },
        {
          "output_type": "execute_result",
          "data": {
            "text/plain": [
              "(404287,)"
            ]
          },
          "metadata": {
            "tags": []
          },
          "execution_count": 35
        }
      ]
    },
    {
      "cell_type": "code",
      "metadata": {
        "id": "hY6XWroDnvDa"
      },
      "source": [
        "sample_df['similarity'] = cosine_similarity"
      ],
      "execution_count": 36,
      "outputs": []
    },
    {
      "cell_type": "markdown",
      "metadata": {
        "id": "VznWV1u5YWi2"
      },
      "source": [
        "Plotting the distribution of similarity score for  duplicate and non-duplicate question pairs"
      ]
    },
    {
      "cell_type": "code",
      "metadata": {
        "id": "n4C8GVLqnvDb",
        "colab": {
          "base_uri": "https://localhost:8080/",
          "height": 366
        },
        "outputId": "02792a73-d065-4c33-f4fa-8f92b65bd5ab"
      },
      "source": [
        "sns.distplot(sample_df[sample_df['is_duplicate'] == 1.0]['similarity'][0:] , label = \"1\", color = 'red')\n",
        "sns.distplot(sample_df[sample_df['is_duplicate'] == 0.0]['similarity'][0:] , label = \"0\", color = 'green')\n",
        "plt.xlabel(\"Question pair cosine similarity \")\n",
        "plt.show()"
      ],
      "execution_count": 39,
      "outputs": [
        {
          "output_type": "stream",
          "text": [
            "/usr/local/lib/python3.6/dist-packages/seaborn/distributions.py:2557: FutureWarning: `distplot` is a deprecated function and will be removed in a future version. Please adapt your code to use either `displot` (a figure-level function with similar flexibility) or `histplot` (an axes-level function for histograms).\n",
            "  warnings.warn(msg, FutureWarning)\n",
            "/usr/local/lib/python3.6/dist-packages/seaborn/distributions.py:2557: FutureWarning: `distplot` is a deprecated function and will be removed in a future version. Please adapt your code to use either `displot` (a figure-level function with similar flexibility) or `histplot` (an axes-level function for histograms).\n",
            "  warnings.warn(msg, FutureWarning)\n"
          ],
          "name": "stderr"
        },
        {
          "output_type": "display_data",
          "data": {
            "image/png": "[encoded data removed]",
            "text/plain": [
              "<Figure size 432x288 with 1 Axes>"
            ]
          },
          "metadata": {
            "tags": [],
            "needs_background": "light"
          }
        }
      ]
    },
    {
      "cell_type": "code",
      "metadata": {
        "colab": {
          "base_uri": "https://localhost:8080/",
          "height": 280
        },
        "id": "wpe2MAh5E9hd",
        "outputId": "0b7b7e60-4152-4041-bdb5-fcad3462c1fd"
      },
      "source": [
        "sns.violinplot(x = 'is_duplicate', y = 'similarity', data = sample_df[0:])\r\n",
        "plt.ylabel(\"Question pair cosine similarity\")\r\n",
        "plt.show()"
      ],
      "execution_count": 40,
      "outputs": [
        {
          "output_type": "display_data",
          "data": {
            "image/png": "[encoded data removed]",
            "text/plain": [
              "<Figure size 432x288 with 1 Axes>"
            ]
          },
          "metadata": {
            "tags": [],
            "needs_background": "light"
          }
        }
      ]
    },
    {
      "cell_type": "markdown",
      "metadata": {
        "id": "0W29QL8oY91d"
      },
      "source": [
        "From the similarity score obtained using sentence embeddings of pretrained LABSE model, the median of distribution of similarity score for both duplicate and non-duplicate questions is higher than 0.5. \r\n",
        "\r\n",
        "Let's look into more detail for each case next.\r\n",
        "\r\n",
        "### Duplicate question pairs"
      ]
    },
    {
      "cell_type": "code",
      "metadata": {
        "colab": {
          "base_uri": "https://localhost:8080/"
        },
        "id": "KpyNQdhOZWH9",
        "outputId": "04b60c9f-b977-404b-ce7c-d0b21f03b0ad"
      },
      "source": [
        "sample_df[sample_df['is_duplicate'] == 1].describe()['similarity']"
      ],
      "execution_count": 42,
      "outputs": [
        {
          "output_type": "execute_result",
          "data": {
            "text/plain": [
              "count    149263.000000\n",
              "mean     0.831287     \n",
              "std      0.107942     \n",
              "min      0.325554     \n",
              "25%      0.760908     \n",
              "50%      0.842984     \n",
              "75%      0.915677     \n",
              "max      1.000000     \n",
              "Name: similarity, dtype: float64"
            ]
          },
          "metadata": {
            "tags": []
          },
          "execution_count": 42
        }
      ]
    },
    {
      "cell_type": "markdown",
      "metadata": {
        "id": "11nOabO9aqdK"
      },
      "source": [
        "##### Duplicate Question pairs with similarity score < 0.5"
      ]
    },
    {
      "cell_type": "code",
      "metadata": {
        "colab": {
          "base_uri": "https://localhost:8080/"
        },
        "id": "vRjWRLrgeUzw",
        "outputId": "ed70d745-a757-4b99-a59e-091d6fd2b575"
      },
      "source": [
        "duplicate_low_simlarity_prop = sample_df[(sample_df['is_duplicate'] == 1) & (sample_df['similarity'] < 0.5)]['similarity'].count() / sample_df[sample_df['is_duplicate'] == 1]['similarity'].count()\r\n",
        "\r\n",
        "print(\" {} percent of duplicate question pairs have similarity score less than 0.5 \".format(duplicate_low_simlarity_prop * 100))"
      ],
      "execution_count": 63,
      "outputs": [
        {
          "output_type": "stream",
          "text": [
            " 0.36244749201074616 percent of duplicate question pairs have similarity score less than 0.5 \n"
          ],
          "name": "stdout"
        }
      ]
    },
    {
      "cell_type": "code",
      "metadata": {
        "colab": {
          "base_uri": "https://localhost:8080/"
        },
        "id": "7SLcWRagaRJG",
        "outputId": "3f139472-5838-417a-a5ce-d538255ec5e8"
      },
      "source": [
        "sample_df[(sample_df['is_duplicate'] == 1) & (sample_df['similarity'] < 0.5)].describe()['similarity']"
      ],
      "execution_count": 44,
      "outputs": [
        {
          "output_type": "execute_result",
          "data": {
            "text/plain": [
              "count    541.000000\n",
              "mean     0.461011  \n",
              "std      0.034763  \n",
              "min      0.325554  \n",
              "25%      0.443392  \n",
              "50%      0.470374  \n",
              "75%      0.489232  \n",
              "max      0.499840  \n",
              "Name: similarity, dtype: float64"
            ]
          },
          "metadata": {
            "tags": []
          },
          "execution_count": 44
        }
      ]
    },
    {
      "cell_type": "code",
      "metadata": {
        "colab": {
          "base_uri": "https://localhost:8080/",
          "height": 427
        },
        "id": "vfddglpDa9CP",
        "outputId": "24c4f1a8-2af2-45d4-90bf-126455f84e94"
      },
      "source": [
        "# Going through top question pairs with lowest similarity scores\r\n",
        "\r\n",
        "sample_df[(sample_df['is_duplicate'] == 1)][['question1', 'question2','similarity']].sort_values(by='similarity').head(10)"
      ],
      "execution_count": 52,
      "outputs": [
        {
          "output_type": "execute_result",
          "data": {
            "text/html": [
              "<div>\n",
              "<style scoped>\n",
              "    .dataframe tbody tr th:only-of-type {\n",
              "        vertical-align: middle;\n",
              "    }\n",
              "\n",
              "    .dataframe tbody tr th {\n",
              "        vertical-align: top;\n",
              "    }\n",
              "\n",
              "    .dataframe thead th {\n",
              "        text-align: right;\n",
              "    }\n",
              "</style>\n",
              "<table border=\"1\" class=\"dataframe\">\n",
              "  <thead>\n",
              "    <tr style=\"text-align: right;\">\n",
              "      <th></th>\n",
              "      <th>question1</th>\n",
              "      <th>question2</th>\n",
              "      <th>similarity</th>\n",
              "    </tr>\n",
              "  </thead>\n",
              "  <tbody>\n",
              "    <tr>\n",
              "      <th>329901</th>\n",
              "      <td>Who won the 09/26/16 debate? Does it matter?</td>\n",
              "      <td>According to polls who won the first Clinton-Trump presidential debate?</td>\n",
              "      <td>0.325554</td>\n",
              "    </tr>\n",
              "    <tr>\n",
              "      <th>354027</th>\n",
              "      <td>Robert Frost: Was the moon landing a hoax?</td>\n",
              "      <td>Prouve me the moon landing is true..</td>\n",
              "      <td>0.329183</td>\n",
              "    </tr>\n",
              "    <tr>\n",
              "      <th>376277</th>\n",
              "      <td>Will India ever get rid of the reservation system from all the sectors be it education or jobs?</td>\n",
              "      <td>Will we ever get \"Azaadi\" from cast based Reservation?</td>\n",
              "      <td>0.333737</td>\n",
              "    </tr>\n",
              "    <tr>\n",
              "      <th>345136</th>\n",
              "      <td>In your opinion, who won the first Trump–Clinton U.S. Presidential debate?</td>\n",
              "      <td>Who won the 09/26/16 debate? Does it matter?</td>\n",
              "      <td>0.337556</td>\n",
              "    </tr>\n",
              "    <tr>\n",
              "      <th>366855</th>\n",
              "      <td>What is the evidence that India carried out surgical strikes in PoK? What made the world deny India's claim?</td>\n",
              "      <td>Were the surgical strikes carried out or not?</td>\n",
              "      <td>0.338138</td>\n",
              "    </tr>\n",
              "    <tr>\n",
              "      <th>210780</th>\n",
              "      <td>Does skipping increase height?</td>\n",
              "      <td>I am 19 years old girl and my height is 5'3. How can I increase my height?</td>\n",
              "      <td>0.356923</td>\n",
              "    </tr>\n",
              "    <tr>\n",
              "      <th>343355</th>\n",
              "      <td>I am 19 years old girl and my height is 5'3. How can I increase my height?</td>\n",
              "      <td>Do running increase your height?</td>\n",
              "      <td>0.364564</td>\n",
              "    </tr>\n",
              "    <tr>\n",
              "      <th>13587</th>\n",
              "      <td>Why did you cry?</td>\n",
              "      <td>In ten words or less, what makes you cry?</td>\n",
              "      <td>0.365241</td>\n",
              "    </tr>\n",
              "    <tr>\n",
              "      <th>390426</th>\n",
              "      <td>Today pm speech is effective or not?</td>\n",
              "      <td>What could we conclude from PM Modi's Speech on 13th November?</td>\n",
              "      <td>0.365805</td>\n",
              "    </tr>\n",
              "    <tr>\n",
              "      <th>111953</th>\n",
              "      <td>How long does it take for an avid weed smoker to pass a urine drug test?</td>\n",
              "      <td>I smoked weed for 3 days. I was clean before that. I had to take a drug test 2 weeks after. I took a home test and barely passed. Will I pass the lab test?</td>\n",
              "      <td>0.366012</td>\n",
              "    </tr>\n",
              "  </tbody>\n",
              "</table>\n",
              "</div>"
            ],
            "text/plain": [
              "                                                                                                           question1  ... similarity\n",
              "329901  Who won the 09/26/16 debate? Does it matter?                                                                  ...  0.325554 \n",
              "354027  Robert Frost: Was the moon landing a hoax?                                                                    ...  0.329183 \n",
              "376277  Will India ever get rid of the reservation system from all the sectors be it education or jobs?               ...  0.333737 \n",
              "345136  In your opinion, who won the first Trump–Clinton U.S. Presidential debate?                                    ...  0.337556 \n",
              "366855  What is the evidence that India carried out surgical strikes in PoK? What made the world deny India's claim?  ...  0.338138 \n",
              "210780  Does skipping increase height?                                                                                ...  0.356923 \n",
              "343355  I am 19 years old girl and my height is 5'3. How can I increase my height?                                    ...  0.364564 \n",
              "13587   Why did you cry?                                                                                              ...  0.365241 \n",
              "390426  Today pm speech is effective or not?                                                                          ...  0.365805 \n",
              "111953  How long does it take for an avid weed smoker to pass a urine drug test?                                      ...  0.366012 \n",
              "\n",
              "[10 rows x 3 columns]"
            ]
          },
          "metadata": {
            "tags": []
          },
          "execution_count": 52
        }
      ]
    },
    {
      "cell_type": "code",
      "metadata": {
        "colab": {
          "base_uri": "https://localhost:8080/",
          "height": 394
        },
        "id": "DYJI2KmDiRj3",
        "outputId": "8230bdad-3856-4aed-acac-528d7f2a9b62"
      },
      "source": [
        "# Going through top question pairs with highest similarity scores.\r\n",
        "\r\n",
        "sample_df[(sample_df['is_duplicate'] == 1)][['question1', 'question2','similarity']].sort_values(by='similarity', ascending=False).head(10)"
      ],
      "execution_count": 65,
      "outputs": [
        {
          "output_type": "execute_result",
          "data": {
            "text/html": [
              "<div>\n",
              "<style scoped>\n",
              "    .dataframe tbody tr th:only-of-type {\n",
              "        vertical-align: middle;\n",
              "    }\n",
              "\n",
              "    .dataframe tbody tr th {\n",
              "        vertical-align: top;\n",
              "    }\n",
              "\n",
              "    .dataframe thead th {\n",
              "        text-align: right;\n",
              "    }\n",
              "</style>\n",
              "<table border=\"1\" class=\"dataframe\">\n",
              "  <thead>\n",
              "    <tr style=\"text-align: right;\">\n",
              "      <th></th>\n",
              "      <th>question1</th>\n",
              "      <th>question2</th>\n",
              "      <th>similarity</th>\n",
              "    </tr>\n",
              "  </thead>\n",
              "  <tbody>\n",
              "    <tr>\n",
              "      <th>113842</th>\n",
              "      <td>What are some of the Great facts about  Maharana Pratap?</td>\n",
              "      <td>What are some of the Great facts about Maharana Pratap?</td>\n",
              "      <td>1.0</td>\n",
              "    </tr>\n",
              "    <tr>\n",
              "      <th>271466</th>\n",
              "      <td>I earn INR 30k/month. After paying rent I save around 10k. How can I save and invest so that after 10years I get a monthly interest of around 6k?</td>\n",
              "      <td>I earn INR 30k/month.After paying rent I save around 10k. How can I save and invest so that after 10years I get a monthly interest of around 6k?</td>\n",
              "      <td>1.0</td>\n",
              "    </tr>\n",
              "    <tr>\n",
              "      <th>165946</th>\n",
              "      <td>Where and how can I learn terminal or cmd ?</td>\n",
              "      <td>Where and how can I learn terminal or cmd?</td>\n",
              "      <td>1.0</td>\n",
              "    </tr>\n",
              "    <tr>\n",
              "      <th>88243</th>\n",
              "      <td>How is 0! = 1?</td>\n",
              "      <td>How is 0! =1?</td>\n",
              "      <td>1.0</td>\n",
              "    </tr>\n",
              "    <tr>\n",
              "      <th>237094</th>\n",
              "      <td>How do I get internship at Google?</td>\n",
              "      <td>How do I get internship at Google ?</td>\n",
              "      <td>1.0</td>\n",
              "    </tr>\n",
              "    <tr>\n",
              "      <th>88180</th>\n",
              "      <td>What is x- ray astronomy?</td>\n",
              "      <td>What is x-ray astronomy?</td>\n",
              "      <td>1.0</td>\n",
              "    </tr>\n",
              "    <tr>\n",
              "      <th>1209</th>\n",
              "      <td>What are the minimum GPA and GRE requirements of Florida State University?</td>\n",
              "      <td>What are the minimum GPA and  GRE requirements of Florida State University?</td>\n",
              "      <td>1.0</td>\n",
              "    </tr>\n",
              "    <tr>\n",
              "      <th>211037</th>\n",
              "      <td>How can one differentiate between 'being beautiful' and 'being good-looking'?</td>\n",
              "      <td>How can one differentiate between' being beautiful' and 'being good-looking'?</td>\n",
              "      <td>1.0</td>\n",
              "    </tr>\n",
              "    <tr>\n",
              "      <th>385240</th>\n",
              "      <td>Is there an air cooler with humidity control available in India?</td>\n",
              "      <td>Is there an air cooler with humidity control available in India ?</td>\n",
              "      <td>1.0</td>\n",
              "    </tr>\n",
              "    <tr>\n",
              "      <th>38073</th>\n",
              "      <td>Who can prove 1 = -1?</td>\n",
              "      <td>Who can prove 1= -1?</td>\n",
              "      <td>1.0</td>\n",
              "    </tr>\n",
              "  </tbody>\n",
              "</table>\n",
              "</div>"
            ],
            "text/plain": [
              "                                                                                                                                                question1  ... similarity\n",
              "113842  What are some of the Great facts about  Maharana Pratap?                                                                                           ...  1.0      \n",
              "271466  I earn INR 30k/month. After paying rent I save around 10k. How can I save and invest so that after 10years I get a monthly interest of around 6k?  ...  1.0      \n",
              "165946  Where and how can I learn terminal or cmd ?                                                                                                        ...  1.0      \n",
              "88243   How is 0! = 1?                                                                                                                                     ...  1.0      \n",
              "237094  How do I get internship at Google?                                                                                                                 ...  1.0      \n",
              "88180   What is x- ray astronomy?                                                                                                                          ...  1.0      \n",
              "1209    What are the minimum GPA and GRE requirements of Florida State University?                                                                         ...  1.0      \n",
              "211037  How can one differentiate between 'being beautiful' and 'being good-looking'?                                                                      ...  1.0      \n",
              "385240  Is there an air cooler with humidity control available in India?                                                                                   ...  1.0      \n",
              "38073   Who can prove 1 = -1?                                                                                                                              ...  1.0      \n",
              "\n",
              "[10 rows x 3 columns]"
            ]
          },
          "metadata": {
            "tags": []
          },
          "execution_count": 65
        }
      ]
    },
    {
      "cell_type": "markdown",
      "metadata": {
        "id": "WqjZsvsPihb4"
      },
      "source": [
        "Question pairs with similarrity scores are identical in the training dataset. We'll explore non-identical."
      ]
    },
    {
      "cell_type": "code",
      "metadata": {
        "colab": {
          "base_uri": "https://localhost:8080/",
          "height": 394
        },
        "id": "MZReOEnRie0N",
        "outputId": "e1d48b49-54b7-4a98-ff14-3cc485984e96"
      },
      "source": [
        "# Going through top question pairs with highest similarity scores.\r\n",
        "\r\n",
        "sample_df[(sample_df['is_duplicate'] == 1) & (sample_df['similarity'] < 0.8)][['question1', 'question2','similarity']].sort_values(by='similarity', ascending=False).head(10)"
      ],
      "execution_count": 71,
      "outputs": [
        {
          "output_type": "execute_result",
          "data": {
            "text/html": [
              "<div>\n",
              "<style scoped>\n",
              "    .dataframe tbody tr th:only-of-type {\n",
              "        vertical-align: middle;\n",
              "    }\n",
              "\n",
              "    .dataframe tbody tr th {\n",
              "        vertical-align: top;\n",
              "    }\n",
              "\n",
              "    .dataframe thead th {\n",
              "        text-align: right;\n",
              "    }\n",
              "</style>\n",
              "<table border=\"1\" class=\"dataframe\">\n",
              "  <thead>\n",
              "    <tr style=\"text-align: right;\">\n",
              "      <th></th>\n",
              "      <th>question1</th>\n",
              "      <th>question2</th>\n",
              "      <th>similarity</th>\n",
              "    </tr>\n",
              "  </thead>\n",
              "  <tbody>\n",
              "    <tr>\n",
              "      <th>341880</th>\n",
              "      <td>If my life had absolutely no limits and I could have it all and do whatever I wanted, what would I choose to have and what would I choose to do?</td>\n",
              "      <td>Deep Thoughts: If your life had absolutely no limits and you could have it all and do whatever you wanted, what would you choose to have and what would you choose to do?</td>\n",
              "      <td>0.799999</td>\n",
              "    </tr>\n",
              "    <tr>\n",
              "      <th>23061</th>\n",
              "      <td>How do I make myself more productive/?</td>\n",
              "      <td>How do I make myself more productive and happy?</td>\n",
              "      <td>0.799998</td>\n",
              "    </tr>\n",
              "    <tr>\n",
              "      <th>355444</th>\n",
              "      <td>Who is the most popular writer at Quora?</td>\n",
              "      <td>Who has the most followers on Quora?</td>\n",
              "      <td>0.799998</td>\n",
              "    </tr>\n",
              "    <tr>\n",
              "      <th>403474</th>\n",
              "      <td>Why do I laugh when people get hurt?</td>\n",
              "      <td>Why do people laugh at other people when they hurt themselves?</td>\n",
              "      <td>0.799996</td>\n",
              "    </tr>\n",
              "    <tr>\n",
              "      <th>142488</th>\n",
              "      <td>What are the best strategies for preparing for the LSAT?</td>\n",
              "      <td>How do I prepare for LSAT?</td>\n",
              "      <td>0.799994</td>\n",
              "    </tr>\n",
              "    <tr>\n",
              "      <th>8034</th>\n",
              "      <td>What is the most expensive wine, and why?</td>\n",
              "      <td>What is the most expensive wine in the world?</td>\n",
              "      <td>0.799993</td>\n",
              "    </tr>\n",
              "    <tr>\n",
              "      <th>256242</th>\n",
              "      <td>What is the best way to improve self-confidence?</td>\n",
              "      <td>How can I improve my confidence?</td>\n",
              "      <td>0.799991</td>\n",
              "    </tr>\n",
              "    <tr>\n",
              "      <th>270477</th>\n",
              "      <td>Will Hillary Clinton cause WWIII by going to war with Syria?</td>\n",
              "      <td>Would Hillary Clinton start World War III / War with Russia?</td>\n",
              "      <td>0.799991</td>\n",
              "    </tr>\n",
              "    <tr>\n",
              "      <th>152132</th>\n",
              "      <td>I have scored 107 in SSC CGL 2016 tier 1gen category what r my chances of selection to tier 2?</td>\n",
              "      <td>I scored 104 in SSC CGL 2016 Tier-1. Is it good enough to clear the exam given that I belong to General category ?</td>\n",
              "      <td>0.799990</td>\n",
              "    </tr>\n",
              "    <tr>\n",
              "      <th>285764</th>\n",
              "      <td>How can we score excellent marks in class 12th board exams?</td>\n",
              "      <td>How can I score well in the 12th class CBSE boards?</td>\n",
              "      <td>0.799989</td>\n",
              "    </tr>\n",
              "  </tbody>\n",
              "</table>\n",
              "</div>"
            ],
            "text/plain": [
              "                                                                                                                                               question1  ... similarity\n",
              "341880  If my life had absolutely no limits and I could have it all and do whatever I wanted, what would I choose to have and what would I choose to do?  ...  0.799999 \n",
              "23061   How do I make myself more productive/?                                                                                                            ...  0.799998 \n",
              "355444  Who is the most popular writer at Quora?                                                                                                          ...  0.799998 \n",
              "403474  Why do I laugh when people get hurt?                                                                                                              ...  0.799996 \n",
              "142488  What are the best strategies for preparing for the LSAT?                                                                                          ...  0.799994 \n",
              "8034    What is the most expensive wine, and why?                                                                                                         ...  0.799993 \n",
              "256242  What is the best way to improve self-confidence?                                                                                                  ...  0.799991 \n",
              "270477  Will Hillary Clinton cause WWIII by going to war with Syria?                                                                                      ...  0.799991 \n",
              "152132  I have scored 107 in SSC CGL 2016 tier 1gen category what r my chances of selection to tier 2?                                                    ...  0.799990 \n",
              "285764  How can we score excellent marks in class 12th board exams?                                                                                       ...  0.799989 \n",
              "\n",
              "[10 rows x 3 columns]"
            ]
          },
          "metadata": {
            "tags": []
          },
          "execution_count": 71
        }
      ]
    },
    {
      "cell_type": "markdown",
      "metadata": {
        "id": "9EowIkaWgAdE"
      },
      "source": [
        "### Non-duplicate question pairs"
      ]
    },
    {
      "cell_type": "code",
      "metadata": {
        "colab": {
          "base_uri": "https://localhost:8080/"
        },
        "id": "tVD1KY-0gRuk",
        "outputId": "5b27652d-946c-4c18-e342-a1f9a2d1cb72"
      },
      "source": [
        "sample_df[sample_df['is_duplicate'] == 0].describe()['similarity']"
      ],
      "execution_count": 60,
      "outputs": [
        {
          "output_type": "execute_result",
          "data": {
            "text/plain": [
              "count    255024.000000\n",
              "mean     0.619081     \n",
              "std      0.206852     \n",
              "min     -0.087937     \n",
              "25%      0.485433     \n",
              "50%      0.642411     \n",
              "75%      0.786584     \n",
              "max      1.000000     \n",
              "Name: similarity, dtype: float64"
            ]
          },
          "metadata": {
            "tags": []
          },
          "execution_count": 60
        }
      ]
    },
    {
      "cell_type": "code",
      "metadata": {
        "colab": {
          "base_uri": "https://localhost:8080/"
        },
        "id": "lEQuLhBUgjbf",
        "outputId": "ac93a803-0808-4067-aff4-7788365b0ab9"
      },
      "source": [
        "non_duplicate_high_simlarity_prop = sample_df[(sample_df['is_duplicate'] == 0) & (sample_df['similarity'] > 0.5)]['similarity'].count() / sample_df[sample_df['is_duplicate'] == 0]['similarity'].count()\r\n",
        "\r\n",
        "print(\" {} percent of Non-duplicate question pairs have similarity score more than 0.5 \".format(non_duplicate_high_simlarity_prop * 100))"
      ],
      "execution_count": 64,
      "outputs": [
        {
          "output_type": "stream",
          "text": [
            " 73.08018068887634 percent of Non-duplicate question pairs have similarity score more than 0.5 \n"
          ],
          "name": "stdout"
        }
      ]
    },
    {
      "cell_type": "code",
      "metadata": {
        "colab": {
          "base_uri": "https://localhost:8080/"
        },
        "id": "Dh_skIXpczuu",
        "outputId": "0205792e-02f0-4454-caf2-3d0b823e5c18"
      },
      "source": [
        "sample_df[(sample_df['is_duplicate'] == 0) & (sample_df['similarity'] < 0.5)].describe()['similarity']"
      ],
      "execution_count": 54,
      "outputs": [
        {
          "output_type": "execute_result",
          "data": {
            "text/plain": [
              "count    68652.000000\n",
              "mean     0.343118    \n",
              "std      0.110995    \n",
              "min     -0.087937    \n",
              "25%      0.254081    \n",
              "50%      0.357393    \n",
              "75%      0.443219    \n",
              "max      0.500000    \n",
              "Name: similarity, dtype: float64"
            ]
          },
          "metadata": {
            "tags": []
          },
          "execution_count": 54
        }
      ]
    },
    {
      "cell_type": "markdown",
      "metadata": {
        "id": "t7Op5esPcXjq"
      },
      "source": [
        "Non-duplicate question pairs with similarity score > 0.5"
      ]
    },
    {
      "cell_type": "code",
      "metadata": {
        "colab": {
          "base_uri": "https://localhost:8080/"
        },
        "id": "Pety9FxEZjYm",
        "outputId": "5f04b293-4210-4d35-8a76-400131e6808f"
      },
      "source": [
        "sample_df[(sample_df['is_duplicate'] == 0) & (sample_df['similarity'] > 0.5)].describe()['similarity']"
      ],
      "execution_count": 53,
      "outputs": [
        {
          "output_type": "execute_result",
          "data": {
            "text/plain": [
              "count    186372.000000\n",
              "mean     0.720734     \n",
              "std      0.125008     \n",
              "min      0.500001     \n",
              "25%      0.614629     \n",
              "50%      0.720258     \n",
              "75%      0.824017     \n",
              "max      1.000000     \n",
              "Name: similarity, dtype: float64"
            ]
          },
          "metadata": {
            "tags": []
          },
          "execution_count": 53
        }
      ]
    },
    {
      "cell_type": "markdown",
      "metadata": {
        "id": "fJXNF-AXsInL"
      },
      "source": [
        "While exploring, I came across the following top instances where the question pairs are duplicate but are labelled as otherwise."
      ]
    },
    {
      "cell_type": "code",
      "metadata": {
        "colab": {
          "base_uri": "https://localhost:8080/",
          "height": 829
        },
        "id": "ddspFUo5sBQQ",
        "outputId": "0aa1501d-b876-4725-d860-bbd955b96ba7"
      },
      "source": [
        "sample_df[(sample_df['is_duplicate'] == 0) & (sample_df['similarity'] > 0.5)].sort_values(by='similarity', ascending=False).head(23)"
      ],
      "execution_count": 97,
      "outputs": [
        {
          "output_type": "execute_result",
          "data": {
            "text/html": [
              "<div>\n",
              "<style scoped>\n",
              "    .dataframe tbody tr th:only-of-type {\n",
              "        vertical-align: middle;\n",
              "    }\n",
              "\n",
              "    .dataframe tbody tr th {\n",
              "        vertical-align: top;\n",
              "    }\n",
              "\n",
              "    .dataframe thead th {\n",
              "        text-align: right;\n",
              "    }\n",
              "</style>\n",
              "<table border=\"1\" class=\"dataframe\">\n",
              "  <thead>\n",
              "    <tr style=\"text-align: right;\">\n",
              "      <th></th>\n",
              "      <th>id</th>\n",
              "      <th>qid1</th>\n",
              "      <th>qid2</th>\n",
              "      <th>question1</th>\n",
              "      <th>question2</th>\n",
              "      <th>is_duplicate</th>\n",
              "      <th>similarity</th>\n",
              "    </tr>\n",
              "  </thead>\n",
              "  <tbody>\n",
              "    <tr>\n",
              "      <th>66762</th>\n",
              "      <td>66762</td>\n",
              "      <td>115661</td>\n",
              "      <td>115662</td>\n",
              "      <td>What should I do after completing BCA ?</td>\n",
              "      <td>What should I do after completing BCA?</td>\n",
              "      <td>0</td>\n",
              "      <td>1.000000</td>\n",
              "    </tr>\n",
              "    <tr>\n",
              "      <th>138069</th>\n",
              "      <td>138069</td>\n",
              "      <td>219934</td>\n",
              "      <td>219935</td>\n",
              "      <td>Why do people say philosophy is useless and/or not practical? (My view in the description)</td>\n",
              "      <td>Why do people say philosophy is useless and/or not practical?(My view in the description)</td>\n",
              "      <td>0</td>\n",
              "      <td>1.000000</td>\n",
              "    </tr>\n",
              "    <tr>\n",
              "      <th>200884</th>\n",
              "      <td>200884</td>\n",
              "      <td>302768</td>\n",
              "      <td>302769</td>\n",
              "      <td>What will be the output of the following program ?</td>\n",
              "      <td>What will be the output of the following program?</td>\n",
              "      <td>0</td>\n",
              "      <td>1.000000</td>\n",
              "    </tr>\n",
              "    <tr>\n",
              "      <th>194310</th>\n",
              "      <td>194310</td>\n",
              "      <td>294484</td>\n",
              "      <td>294485</td>\n",
              "      <td>How would you rephrase this sentence?</td>\n",
              "      <td>How would you rephrase this sentence?</td>\n",
              "      <td>0</td>\n",
              "      <td>1.000000</td>\n",
              "    </tr>\n",
              "    <tr>\n",
              "      <th>359339</th>\n",
              "      <td>359339</td>\n",
              "      <td>488974</td>\n",
              "      <td>480151</td>\n",
              "      <td>What is the meaning of this sentence below?</td>\n",
              "      <td>What is the meaning of this sentence below?</td>\n",
              "      <td>0</td>\n",
              "      <td>1.000000</td>\n",
              "    </tr>\n",
              "    <tr>\n",
              "      <th>35641</th>\n",
              "      <td>35641</td>\n",
              "      <td>65095</td>\n",
              "      <td>65096</td>\n",
              "      <td>What to do ?</td>\n",
              "      <td>What to do?</td>\n",
              "      <td>0</td>\n",
              "      <td>1.000000</td>\n",
              "    </tr>\n",
              "    <tr>\n",
              "      <th>244197</th>\n",
              "      <td>244197</td>\n",
              "      <td>356791</td>\n",
              "      <td>240063</td>\n",
              "      <td>I have read lots of books but forgotten most of them.What's the purpose of reading?</td>\n",
              "      <td>I have read lots of books but forgotten most of them. What's the purpose of reading?</td>\n",
              "      <td>0</td>\n",
              "      <td>1.000000</td>\n",
              "    </tr>\n",
              "    <tr>\n",
              "      <th>156320</th>\n",
              "      <td>156320</td>\n",
              "      <td>244675</td>\n",
              "      <td>66001</td>\n",
              "      <td>When should I use \"has been\",\"have been\" and \"had been\"?</td>\n",
              "      <td>When should I use \"has been\", \"have been\" and \"had been\"?</td>\n",
              "      <td>0</td>\n",
              "      <td>1.000000</td>\n",
              "    </tr>\n",
              "    <tr>\n",
              "      <th>27083</th>\n",
              "      <td>27083</td>\n",
              "      <td>50335</td>\n",
              "      <td>50336</td>\n",
              "      <td>What does the Arabic text mean ?</td>\n",
              "      <td>What does the Arabic text mean?</td>\n",
              "      <td>0</td>\n",
              "      <td>1.000000</td>\n",
              "    </tr>\n",
              "    <tr>\n",
              "      <th>164973</th>\n",
              "      <td>164973</td>\n",
              "      <td>256258</td>\n",
              "      <td>256259</td>\n",
              "      <td>How should I prepare ?</td>\n",
              "      <td>How should I prepare?</td>\n",
              "      <td>0</td>\n",
              "      <td>1.000000</td>\n",
              "    </tr>\n",
              "    <tr>\n",
              "      <th>200791</th>\n",
              "      <td>200791</td>\n",
              "      <td>302647</td>\n",
              "      <td>302648</td>\n",
              "      <td>What do you think of this video ?</td>\n",
              "      <td>What do you think of this video?</td>\n",
              "      <td>0</td>\n",
              "      <td>1.000000</td>\n",
              "    </tr>\n",
              "    <tr>\n",
              "      <th>357594</th>\n",
              "      <td>357594</td>\n",
              "      <td>486998</td>\n",
              "      <td>486999</td>\n",
              "      <td>I'm scared of death. What do I do?</td>\n",
              "      <td>I'm scared of death.What do I do?</td>\n",
              "      <td>0</td>\n",
              "      <td>1.000000</td>\n",
              "    </tr>\n",
              "    <tr>\n",
              "      <th>220517</th>\n",
              "      <td>220517</td>\n",
              "      <td>327627</td>\n",
              "      <td>327628</td>\n",
              "      <td>Does he like me ?</td>\n",
              "      <td>Does he like me?</td>\n",
              "      <td>0</td>\n",
              "      <td>1.000000</td>\n",
              "    </tr>\n",
              "    <tr>\n",
              "      <th>386629</th>\n",
              "      <td>386629</td>\n",
              "      <td>518854</td>\n",
              "      <td>39099</td>\n",
              "      <td>What does my birth chart say about me?</td>\n",
              "      <td>What does my birth chart say about me?</td>\n",
              "      <td>0</td>\n",
              "      <td>1.000000</td>\n",
              "    </tr>\n",
              "    <tr>\n",
              "      <th>190035</th>\n",
              "      <td>190035</td>\n",
              "      <td>288991</td>\n",
              "      <td>39099</td>\n",
              "      <td>What does my birth chart say about me ?</td>\n",
              "      <td>What does my birth chart say about me?</td>\n",
              "      <td>0</td>\n",
              "      <td>1.000000</td>\n",
              "    </tr>\n",
              "    <tr>\n",
              "      <th>244386</th>\n",
              "      <td>244386</td>\n",
              "      <td>288991</td>\n",
              "      <td>36624</td>\n",
              "      <td>What does my birth chart say about me ?</td>\n",
              "      <td>What does my birth chart say about me?</td>\n",
              "      <td>0</td>\n",
              "      <td>1.000000</td>\n",
              "    </tr>\n",
              "    <tr>\n",
              "      <th>208622</th>\n",
              "      <td>208622</td>\n",
              "      <td>312669</td>\n",
              "      <td>58231</td>\n",
              "      <td>When is the form for CBSE class 12 improvement exam coming out for 2016 – 2017?</td>\n",
              "      <td>When is the form for CBSE class 12 improvement exam coming out for 2016 – 2017 ?</td>\n",
              "      <td>0</td>\n",
              "      <td>1.000000</td>\n",
              "    </tr>\n",
              "    <tr>\n",
              "      <th>23507</th>\n",
              "      <td>23507</td>\n",
              "      <td>44023</td>\n",
              "      <td>2605</td>\n",
              "      <td>What is the purpose of life ?</td>\n",
              "      <td>What is the purpose of life?</td>\n",
              "      <td>0</td>\n",
              "      <td>1.000000</td>\n",
              "    </tr>\n",
              "    <tr>\n",
              "      <th>3148</th>\n",
              "      <td>3148</td>\n",
              "      <td>6241</td>\n",
              "      <td>6242</td>\n",
              "      <td>How do I overcome my inferiority complex ?</td>\n",
              "      <td>How do I overcome my inferiority complex?</td>\n",
              "      <td>0</td>\n",
              "      <td>1.000000</td>\n",
              "    </tr>\n",
              "    <tr>\n",
              "      <th>301106</th>\n",
              "      <td>301106</td>\n",
              "      <td>423972</td>\n",
              "      <td>423973</td>\n",
              "      <td>I got 50% in 12th. Can I get into an engineering college in 2017?</td>\n",
              "      <td>I got 50% in 12th. Can I get into an engineering college in 2017 ?</td>\n",
              "      <td>0</td>\n",
              "      <td>1.000000</td>\n",
              "    </tr>\n",
              "    <tr>\n",
              "      <th>299649</th>\n",
              "      <td>299649</td>\n",
              "      <td>422330</td>\n",
              "      <td>422331</td>\n",
              "      <td>Who is this?</td>\n",
              "      <td>Who is this?</td>\n",
              "      <td>0</td>\n",
              "      <td>1.000000</td>\n",
              "    </tr>\n",
              "    <tr>\n",
              "      <th>115053</th>\n",
              "      <td>115053</td>\n",
              "      <td>187684</td>\n",
              "      <td>41938</td>\n",
              "      <td>What are the chances I could be pregnant?</td>\n",
              "      <td>What are the chances I could be pregnant?</td>\n",
              "      <td>0</td>\n",
              "      <td>1.000000</td>\n",
              "    </tr>\n",
              "    <tr>\n",
              "      <th>72272</th>\n",
              "      <td>72272</td>\n",
              "      <td>124213</td>\n",
              "      <td>15722</td>\n",
              "      <td>What are my chances of getting into an Ivy League?</td>\n",
              "      <td>What are my chances of getting into a Ivy League?</td>\n",
              "      <td>0</td>\n",
              "      <td>0.999901</td>\n",
              "    </tr>\n",
              "  </tbody>\n",
              "</table>\n",
              "</div>"
            ],
            "text/plain": [
              "            id    qid1  ...  is_duplicate similarity\n",
              "66762   66762   115661  ...  0             1.000000 \n",
              "138069  138069  219934  ...  0             1.000000 \n",
              "200884  200884  302768  ...  0             1.000000 \n",
              "194310  194310  294484  ...  0             1.000000 \n",
              "359339  359339  488974  ...  0             1.000000 \n",
              "35641   35641   65095   ...  0             1.000000 \n",
              "244197  244197  356791  ...  0             1.000000 \n",
              "156320  156320  244675  ...  0             1.000000 \n",
              "27083   27083   50335   ...  0             1.000000 \n",
              "164973  164973  256258  ...  0             1.000000 \n",
              "200791  200791  302647  ...  0             1.000000 \n",
              "357594  357594  486998  ...  0             1.000000 \n",
              "220517  220517  327627  ...  0             1.000000 \n",
              "386629  386629  518854  ...  0             1.000000 \n",
              "190035  190035  288991  ...  0             1.000000 \n",
              "244386  244386  288991  ...  0             1.000000 \n",
              "208622  208622  312669  ...  0             1.000000 \n",
              "23507   23507   44023   ...  0             1.000000 \n",
              "3148    3148    6241    ...  0             1.000000 \n",
              "301106  301106  423972  ...  0             1.000000 \n",
              "299649  299649  422330  ...  0             1.000000 \n",
              "115053  115053  187684  ...  0             1.000000 \n",
              "72272   72272   124213  ...  0             0.999901 \n",
              "\n",
              "[23 rows x 7 columns]"
            ]
          },
          "metadata": {
            "tags": []
          },
          "execution_count": 97
        }
      ]
    },
    {
      "cell_type": "markdown",
      "metadata": {
        "id": "HSaiFGNJxknh"
      },
      "source": [
        "True non-duplicate cases"
      ]
    },
    {
      "cell_type": "code",
      "metadata": {
        "colab": {
          "base_uri": "https://localhost:8080/",
          "height": 478
        },
        "id": "8kb1WM4HuG9D",
        "outputId": "664d919c-2c59-4b56-b05f-25353b82f23b"
      },
      "source": [
        "sample_df_v2 = sample_df[(sample_df['is_duplicate'] == 0) & (sample_df['similarity'] > 0.5)]\r\n",
        "sample_df_v2[(sample_df_v2['similarity'] <= 0.9 )].sort_values(by='similarity', ascending=False).head(10)"
      ],
      "execution_count": 91,
      "outputs": [
        {
          "output_type": "execute_result",
          "data": {
            "text/html": [
              "<div>\n",
              "<style scoped>\n",
              "    .dataframe tbody tr th:only-of-type {\n",
              "        vertical-align: middle;\n",
              "    }\n",
              "\n",
              "    .dataframe tbody tr th {\n",
              "        vertical-align: top;\n",
              "    }\n",
              "\n",
              "    .dataframe thead th {\n",
              "        text-align: right;\n",
              "    }\n",
              "</style>\n",
              "<table border=\"1\" class=\"dataframe\">\n",
              "  <thead>\n",
              "    <tr style=\"text-align: right;\">\n",
              "      <th></th>\n",
              "      <th>id</th>\n",
              "      <th>qid1</th>\n",
              "      <th>qid2</th>\n",
              "      <th>question1</th>\n",
              "      <th>question2</th>\n",
              "      <th>is_duplicate</th>\n",
              "      <th>similarity</th>\n",
              "    </tr>\n",
              "  </thead>\n",
              "  <tbody>\n",
              "    <tr>\n",
              "      <th>302662</th>\n",
              "      <td>302662</td>\n",
              "      <td>425673</td>\n",
              "      <td>313799</td>\n",
              "      <td>Why should I prepare for a medical entrance exam?</td>\n",
              "      <td>How should I prepare for my medical entrance examination?</td>\n",
              "      <td>0</td>\n",
              "      <td>0.899996</td>\n",
              "    </tr>\n",
              "    <tr>\n",
              "      <th>326299</th>\n",
              "      <td>326299</td>\n",
              "      <td>452595</td>\n",
              "      <td>394332</td>\n",
              "      <td>What are some things new employees should know going into their first day at US Bank?</td>\n",
              "      <td>What are some things new employees should know going into their first day at US Concrete?</td>\n",
              "      <td>0</td>\n",
              "      <td>0.899991</td>\n",
              "    </tr>\n",
              "    <tr>\n",
              "      <th>318728</th>\n",
              "      <td>318728</td>\n",
              "      <td>227492</td>\n",
              "      <td>36011</td>\n",
              "      <td>What is a suitable solar panel installation provider near Oceanside, California CA?</td>\n",
              "      <td>What is a suitable solar panel installation provider near Aptos, California CA?</td>\n",
              "      <td>0</td>\n",
              "      <td>0.899987</td>\n",
              "    </tr>\n",
              "    <tr>\n",
              "      <th>63252</th>\n",
              "      <td>63252</td>\n",
              "      <td>110107</td>\n",
              "      <td>110108</td>\n",
              "      <td>How do I read data from excel sheet and put it into jQuery?</td>\n",
              "      <td>How do I read data from excel sheet and put it into js file?</td>\n",
              "      <td>0</td>\n",
              "      <td>0.899986</td>\n",
              "    </tr>\n",
              "    <tr>\n",
              "      <th>250135</th>\n",
              "      <td>250135</td>\n",
              "      <td>363927</td>\n",
              "      <td>363928</td>\n",
              "      <td>Is Canada's healthcare system a national program run by the government?</td>\n",
              "      <td>Is the U.K. healthcare system a national program run by the government?</td>\n",
              "      <td>0</td>\n",
              "      <td>0.899982</td>\n",
              "    </tr>\n",
              "    <tr>\n",
              "      <th>290843</th>\n",
              "      <td>290843</td>\n",
              "      <td>412205</td>\n",
              "      <td>412206</td>\n",
              "      <td>How do you change the desktop icon size in Windows 7?</td>\n",
              "      <td>How do you change the desktop icon size in Windows 10?</td>\n",
              "      <td>0</td>\n",
              "      <td>0.899980</td>\n",
              "    </tr>\n",
              "    <tr>\n",
              "      <th>297605</th>\n",
              "      <td>297605</td>\n",
              "      <td>419991</td>\n",
              "      <td>419992</td>\n",
              "      <td>Where is the best place to buy the iPhone 6 Plus?</td>\n",
              "      <td>Where is the best place to buy an Iphone 7 plus?</td>\n",
              "      <td>0</td>\n",
              "      <td>0.899979</td>\n",
              "    </tr>\n",
              "    <tr>\n",
              "      <th>149761</th>\n",
              "      <td>149761</td>\n",
              "      <td>235830</td>\n",
              "      <td>91584</td>\n",
              "      <td>What is the typical career path for someone who becomes a professor in ministry?</td>\n",
              "      <td>What is the typical career path for someone who becomes a professor in music?</td>\n",
              "      <td>0</td>\n",
              "      <td>0.899979</td>\n",
              "    </tr>\n",
              "    <tr>\n",
              "      <th>60534</th>\n",
              "      <td>60534</td>\n",
              "      <td>105848</td>\n",
              "      <td>105849</td>\n",
              "      <td>Why can't I connect games for Windows Live?</td>\n",
              "      <td>What can I do if I can't connect games in Windows Live?</td>\n",
              "      <td>0</td>\n",
              "      <td>0.899978</td>\n",
              "    </tr>\n",
              "    <tr>\n",
              "      <th>401369</th>\n",
              "      <td>401369</td>\n",
              "      <td>159134</td>\n",
              "      <td>59736</td>\n",
              "      <td>What are the best weights for weight loss?</td>\n",
              "      <td>What are the best weight loss foods?</td>\n",
              "      <td>0</td>\n",
              "      <td>0.899974</td>\n",
              "    </tr>\n",
              "  </tbody>\n",
              "</table>\n",
              "</div>"
            ],
            "text/plain": [
              "            id    qid1  ...  is_duplicate similarity\n",
              "302662  302662  425673  ...  0             0.899996 \n",
              "326299  326299  452595  ...  0             0.899991 \n",
              "318728  318728  227492  ...  0             0.899987 \n",
              "63252   63252   110107  ...  0             0.899986 \n",
              "250135  250135  363927  ...  0             0.899982 \n",
              "290843  290843  412205  ...  0             0.899980 \n",
              "297605  297605  419991  ...  0             0.899979 \n",
              "149761  149761  235830  ...  0             0.899979 \n",
              "60534   60534   105848  ...  0             0.899978 \n",
              "401369  401369  159134  ...  0             0.899974 \n",
              "\n",
              "[10 rows x 7 columns]"
            ]
          },
          "metadata": {
            "tags": []
          },
          "execution_count": 91
        }
      ]
    },
    {
      "cell_type": "code",
      "metadata": {
        "id": "rWj-Xl5VnvDb"
      },
      "source": [
        "# 1. User \n",
        "BERT - it can work since it is trained on next sentence prediction task\n",
        "# 2. use T5 and compare their performance\n",
        "# 3. LABSE\n",
        "\n",
        "# Benchmark with these models\n",
        "\n",
        "# Implement this solution by following a research paper"
      ],
      "execution_count": null,
      "outputs": []
    },
    {
      "cell_type": "markdown",
      "metadata": {
        "id": "2zQK0M6onvDb"
      },
      "source": [
        "#### References\n",
        "* https://github.com/Taaniya/natural-language-understanding/blob/master/Explore_Language_Agnostic_BERT_Sentence_Embedding.ipynb\n",
        "* https://tfhub.dev/google/LaBSE/1"
      ]
    }
  ]
}